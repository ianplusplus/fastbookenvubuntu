{
 "cells": [
  {
   "cell_type": "code",
   "execution_count": null,
   "id": "import-test",
   "metadata": {},
   "outputs": [],
   "source": [
    "from fastai.vision.all import *\n",
    "print(\"✅ FastAI imported successfully\")"
   ]
  },
  {
   "cell_type": "code",
   "execution_count": null,
   "id": "data-test",
   "metadata": {},
   "outputs": [],
   "source": [
    "path = untar_data(URLs.MNIST_SAMPLE)\n",
    "print(f\"✅ Sample dataset downloaded: {path}\")"
   ]
  },
  {
   "cell_type": "code",
   "execution_count": null,
   "id": "learner-test",
   "metadata": {},
   "outputs": [],
   "source": [
    "dls = ImageDataLoaders.from_folder(path, valid='valid', bs=16)\n",
    "learn = cnn_learner(dls, resnet18, metrics=accuracy)\n",
    "print(\"✅ Learner setup succeeded\")"
   ]
  }
 ],
 "metadata": {
  "kernelspec": {
   "display_name": "Python 3",
   "language": "python",
   "name": "python3"
  },
  "language_info": {
   "codemirror_mode": {
    "name": "ipython",
    "version": 3
   },
   "file_extension": ".py",
   "mimetype": "text/x-python",
   "name": "python",
   "nbconvert_exporter": "python",
   "pygments_lexer": "ipython3",
   "version": "3.12.0"
  }
 },
 "nbformat": 4,
 "nbformat_minor": 5
}
